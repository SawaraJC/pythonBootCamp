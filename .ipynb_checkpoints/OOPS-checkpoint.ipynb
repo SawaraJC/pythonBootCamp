{
 "cells": [
  {
   "cell_type": "code",
   "execution_count": 17,
   "id": "d7adc81e",
   "metadata": {},
   "outputs": [],
   "source": [
    "#self and __init__\n",
    "\n",
    "class Dog():\n",
    "    \n",
    "    \n",
    "    \n",
    "    def __init__(self, breed):             #can be thought as constructor of the class with desired attributes\n",
    "        \n",
    "        #we take in argument\n",
    "        #assign it to self.attribute_name\n",
    "        self.breed = breed                 "
   ]
  },
  {
   "cell_type": "code",
   "execution_count": 11,
   "id": "4af33a34",
   "metadata": {},
   "outputs": [
    {
     "ename": "TypeError",
     "evalue": "__init__() missing 1 required positional argument: 'breed'",
     "output_type": "error",
     "traceback": [
      "\u001b[1;31m---------------------------------------------------------------------------\u001b[0m",
      "\u001b[1;31mTypeError\u001b[0m                                 Traceback (most recent call last)",
      "Input \u001b[1;32mIn [11]\u001b[0m, in \u001b[0;36m<cell line: 1>\u001b[1;34m()\u001b[0m\n\u001b[1;32m----> 1\u001b[0m myDog \u001b[38;5;241m=\u001b[39m \u001b[43mDog\u001b[49m\u001b[43m(\u001b[49m\u001b[43m)\u001b[49m\n",
      "\u001b[1;31mTypeError\u001b[0m: __init__() missing 1 required positional argument: 'breed'"
     ]
    }
   ],
   "source": [
    "myDog = Dog()      #raises an error as no parameter is passed"
   ]
  },
  {
   "cell_type": "code",
   "execution_count": 12,
   "id": "e4507453",
   "metadata": {},
   "outputs": [],
   "source": [
    "myDog = Dog(breed = 'Holder')"
   ]
  },
  {
   "cell_type": "code",
   "execution_count": 13,
   "id": "21ae1626",
   "metadata": {},
   "outputs": [
    {
     "data": {
      "text/plain": [
       "__main__.Dog"
      ]
     },
     "execution_count": 13,
     "metadata": {},
     "output_type": "execute_result"
    }
   ],
   "source": [
    "type(myDog)     #type of dog class"
   ]
  },
  {
   "cell_type": "code",
   "execution_count": 14,
   "id": "e4b8d530",
   "metadata": {},
   "outputs": [
    {
     "data": {
      "text/plain": [
       "'Holder'"
      ]
     },
     "execution_count": 14,
     "metadata": {},
     "output_type": "execute_result"
    }
   ],
   "source": [
    "myDog.breed     #attribute callable"
   ]
  },
  {
   "cell_type": "code",
   "execution_count": 19,
   "id": "18bcc4db",
   "metadata": {},
   "outputs": [
    {
     "ename": "AttributeError",
     "evalue": "'Dog' object has no attribute 'animilia'",
     "output_type": "error",
     "traceback": [
      "\u001b[1;31m---------------------------------------------------------------------------\u001b[0m",
      "\u001b[1;31mAttributeError\u001b[0m                            Traceback (most recent call last)",
      "Input \u001b[1;32mIn [19]\u001b[0m, in \u001b[0;36m<cell line: 1>\u001b[1;34m()\u001b[0m\n\u001b[1;32m----> 1\u001b[0m \u001b[43mmyDog\u001b[49m\u001b[38;5;241;43m.\u001b[39;49m\u001b[43manimilia\u001b[49m\n",
      "\u001b[1;31mAttributeError\u001b[0m: 'Dog' object has no attribute 'animilia'"
     ]
    }
   ],
   "source": [
    "myDog.animilia"
   ]
  },
  {
   "cell_type": "code",
   "execution_count": null,
   "id": "1b743595",
   "metadata": {},
   "outputs": [],
   "source": []
  }
 ],
 "metadata": {
  "kernelspec": {
   "display_name": "Python 3 (ipykernel)",
   "language": "python",
   "name": "python3"
  },
  "language_info": {
   "codemirror_mode": {
    "name": "ipython",
    "version": 3
   },
   "file_extension": ".py",
   "mimetype": "text/x-python",
   "name": "python",
   "nbconvert_exporter": "python",
   "pygments_lexer": "ipython3",
   "version": "3.9.7"
  }
 },
 "nbformat": 4,
 "nbformat_minor": 5
}
