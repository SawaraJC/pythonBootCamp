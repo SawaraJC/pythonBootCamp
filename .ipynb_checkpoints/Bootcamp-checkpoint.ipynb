{
 "cells": [
  {
   "cell_type": "code",
   "execution_count": 2,
   "id": "28d22401",
   "metadata": {},
   "outputs": [
    {
     "data": {
      "text/plain": [
       "'sanw'"
      ]
     },
     "execution_count": 2,
     "metadata": {},
     "output_type": "execute_result"
    }
   ],
   "source": [
    "#since strings are ordered, indexing can be used for it. \n",
    "\n",
    "str = 'sanwara'\n",
    "\n",
    "#slicing a string. [start, stop, step]\n",
    "str[0:4:1]"
   ]
  },
  {
   "cell_type": "code",
   "execution_count": null,
   "id": "dd6bd06a",
   "metadata": {},
   "outputs": [],
   "source": []
  },
  {
   "cell_type": "code",
   "execution_count": null,
   "id": "4c94bceb",
   "metadata": {},
   "outputs": [],
   "source": []
  }
 ],
 "metadata": {
  "kernelspec": {
   "display_name": "Python 3 (ipykernel)",
   "language": "python",
   "name": "python3"
  },
  "language_info": {
   "codemirror_mode": {
    "name": "ipython",
    "version": 3
   },
   "file_extension": ".py",
   "mimetype": "text/x-python",
   "name": "python",
   "nbconvert_exporter": "python",
   "pygments_lexer": "ipython3",
   "version": "3.9.7"
  }
 },
 "nbformat": 4,
 "nbformat_minor": 5
}
