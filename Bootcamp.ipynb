{
 "cells": [
  {
   "cell_type": "code",
   "execution_count": 4,
   "id": "28d22401",
   "metadata": {},
   "outputs": [
    {
     "name": "stdout",
     "output_type": "stream",
     "text": [
      "sanw\n"
     ]
    }
   ],
   "source": [
    "#since strings are ordered, indexing can be used for it. \n",
    "\n",
    "str = 'sanwara'\n",
    "\n",
    "#slicing a string. [start, stop, step]\n",
    "print(str[0:4:1])"
   ]
  },
  {
   "cell_type": "code",
   "execution_count": 5,
   "id": "4fa8b338",
   "metadata": {},
   "outputs": [
    {
     "data": {
      "text/plain": [
       "'s'"
      ]
     },
     "execution_count": 5,
     "metadata": {},
     "output_type": "execute_result"
    }
   ],
   "source": [
    "str[0]"
   ]
  },
  {
   "cell_type": "code",
   "execution_count": 6,
   "id": "f62585b6",
   "metadata": {},
   "outputs": [
    {
     "data": {
      "text/plain": [
       "'a'"
      ]
     },
     "execution_count": 6,
     "metadata": {},
     "output_type": "execute_result"
    }
   ],
   "source": [
    "str[-3]"
   ]
  },
  {
   "cell_type": "code",
   "execution_count": 7,
   "id": "0772c6e9",
   "metadata": {},
   "outputs": [
    {
     "data": {
      "text/plain": [
       "'sanwara'"
      ]
     },
     "execution_count": 7,
     "metadata": {},
     "output_type": "execute_result"
    }
   ],
   "source": [
    "str[0::]"
   ]
  },
  {
   "cell_type": "code",
   "execution_count": 9,
   "id": "809404ee",
   "metadata": {},
   "outputs": [
    {
     "data": {
      "text/plain": [
       "'sanwar'"
      ]
     },
     "execution_count": 9,
     "metadata": {},
     "output_type": "execute_result"
    }
   ],
   "source": [
    "str[:-1:]    #stop is upto but not including kinda"
   ]
  },
  {
   "cell_type": "code",
   "execution_count": 11,
   "id": "64136491",
   "metadata": {},
   "outputs": [],
   "source": [
    "# Strings are immutable"
   ]
  },
  {
   "cell_type": "code",
   "execution_count": 14,
   "id": "c0614a2a",
   "metadata": {},
   "outputs": [
    {
     "data": {
      "text/plain": [
       "'zzzzzzzzzzzzzzzzzzzzzzzzzzzzzzzzzzzzzzzzzzzzzzzzzzzzzzzzzzzzzzzzzzzzzzzzzzzzzzzzzzzzzzzzzzzzzzzzzzzz'"
      ]
     },
     "execution_count": 14,
     "metadata": {},
     "output_type": "execute_result"
    }
   ],
   "source": [
    "letter = 'z'\n",
    "letter*100"
   ]
  },
  {
   "cell_type": "code",
   "execution_count": 16,
   "id": "b0f33f85",
   "metadata": {},
   "outputs": [],
   "source": [
    "#string function\n",
    "x = 'hope'\n"
   ]
  },
  {
   "cell_type": "code",
   "execution_count": 17,
   "id": "7ddc2d5a",
   "metadata": {},
   "outputs": [
    {
     "data": {
      "text/plain": [
       "'HOPE'"
      ]
     },
     "execution_count": 17,
     "metadata": {},
     "output_type": "execute_result"
    }
   ],
   "source": [
    "x.upper()      #this is not an inplace method i.e it does notaffect the original string"
   ]
  },
  {
   "cell_type": "code",
   "execution_count": 18,
   "id": "6e163ace",
   "metadata": {},
   "outputs": [
    {
     "data": {
      "text/plain": [
       "'hope'"
      ]
     },
     "execution_count": 18,
     "metadata": {},
     "output_type": "execute_result"
    }
   ],
   "source": [
    "x\n"
   ]
  },
  {
   "cell_type": "code",
   "execution_count": 19,
   "id": "0d150faf",
   "metadata": {},
   "outputs": [],
   "source": [
    "#if we want to change the original string, we have to reassign it\n",
    "\n",
    "x = x.upper()"
   ]
  },
  {
   "cell_type": "code",
   "execution_count": 20,
   "id": "9019b4a6",
   "metadata": {},
   "outputs": [
    {
     "data": {
      "text/plain": [
       "'HOPE'"
      ]
     },
     "execution_count": 20,
     "metadata": {},
     "output_type": "execute_result"
    }
   ],
   "source": [
    "x"
   ]
  },
  {
   "cell_type": "code",
   "execution_count": 24,
   "id": "6414d8b0",
   "metadata": {},
   "outputs": [
    {
     "data": {
      "text/plain": [
       "['I a', ' the ', 'aster of ', 'y fate, i a', ' the ', 'aster of ', 'y soul']"
      ]
     },
     "execution_count": 24,
     "metadata": {},
     "output_type": "execute_result"
    }
   ],
   "source": [
    "#split method\n",
    "\n",
    "strnew = 'I am the master of my fate, i am the master of my soul'\n",
    "strnew.split('m')       #splits the string at all the places in string where m is present, returns an array of strings\n"
   ]
  },
  {
   "cell_type": "code",
   "execution_count": 28,
   "id": "3409ad2b",
   "metadata": {},
   "outputs": [],
   "source": [
    "#string interpolation\n",
    "strs = 'this is an important status {}'.format('code inserted') + ' ok'"
   ]
  },
  {
   "cell_type": "code",
   "execution_count": 29,
   "id": "ff16fe0c",
   "metadata": {},
   "outputs": [
    {
     "data": {
      "text/plain": [
       "'this is an important status code inserted ok'"
      ]
     },
     "execution_count": 29,
     "metadata": {},
     "output_type": "execute_result"
    }
   ],
   "source": [
    "strs"
   ]
  },
  {
   "cell_type": "code",
   "execution_count": 34,
   "id": "85502ebd",
   "metadata": {},
   "outputs": [
    {
     "name": "stdout",
     "output_type": "stream",
     "text": [
      "My name is Sawara Jagdish Chandak\n",
      "My name is Chandak Sawara Jagdish\n",
      "My name is Sawara Jagdish Chandak\n"
     ]
    }
   ],
   "source": [
    "print('My name is {} {} {}'.format('Sawara', 'Jagdish', 'Chandak'))\n",
    "\n",
    "#can also use indexing.watch closely\n",
    "print('My name is {2} {0} {1}'.format('Sawara', 'Jagdish', 'Chandak'))\n",
    "\n",
    "#another way\n",
    "print('My name is {s} {j} {c}'.format(s='Sawara', j='Jagdish', c='Chandak'))"
   ]
  },
  {
   "cell_type": "code",
   "execution_count": null,
   "id": "6521c517",
   "metadata": {},
   "outputs": [],
   "source": []
  },
  {
   "cell_type": "markdown",
   "id": "33138a2c",
   "metadata": {},
   "source": [
    "List"
   ]
  },
  {
   "cell_type": "code",
   "execution_count": 1,
   "id": "d254bc5f",
   "metadata": {},
   "outputs": [],
   "source": [
    "my_list = [10,12,14,16]\n",
    "\n",
    "my_lists = ['String', 100, 12.6]"
   ]
  },
  {
   "cell_type": "code",
   "execution_count": 2,
   "id": "55f44a0b",
   "metadata": {},
   "outputs": [
    {
     "data": {
      "text/plain": [
       "4"
      ]
     },
     "execution_count": 2,
     "metadata": {},
     "output_type": "execute_result"
    }
   ],
   "source": [
    "#length of list\n",
    "\n",
    "len(my_list)"
   ]
  },
  {
   "cell_type": "code",
   "execution_count": 3,
   "id": "3131c77a",
   "metadata": {},
   "outputs": [
    {
     "data": {
      "text/plain": [
       "10"
      ]
     },
     "execution_count": 3,
     "metadata": {},
     "output_type": "execute_result"
    }
   ],
   "source": [
    "my_list[0]  #element at specified index"
   ]
  },
  {
   "cell_type": "code",
   "execution_count": 5,
   "id": "8e73343f",
   "metadata": {},
   "outputs": [
    {
     "data": {
      "text/plain": [
       "[12, 14, 16]"
      ]
     },
     "execution_count": 5,
     "metadata": {},
     "output_type": "execute_result"
    }
   ],
   "source": [
    "my_list[1:]  #slicing (similar to strings)"
   ]
  },
  {
   "cell_type": "code",
   "execution_count": 6,
   "id": "c74e779e",
   "metadata": {},
   "outputs": [],
   "source": [
    "my_list.append(90) #adding to the end of list"
   ]
  },
  {
   "cell_type": "code",
   "execution_count": 7,
   "id": "a9c7cf5b",
   "metadata": {},
   "outputs": [
    {
     "data": {
      "text/plain": [
       "[10, 12, 14, 16, 90]"
      ]
     },
     "execution_count": 7,
     "metadata": {},
     "output_type": "execute_result"
    }
   ],
   "source": [
    "my_list"
   ]
  },
  {
   "cell_type": "code",
   "execution_count": 10,
   "id": "838e0a7b",
   "metadata": {},
   "outputs": [
    {
     "data": {
      "text/plain": [
       "14"
      ]
     },
     "execution_count": 10,
     "metadata": {},
     "output_type": "execute_result"
    }
   ],
   "source": [
    "my_list.pop()   #removes and returns last element from list\n",
    "#  (here, the cell was executed 3 times and everytime an element was removed from end)"
   ]
  },
  {
   "cell_type": "code",
   "execution_count": 11,
   "id": "23b4628e",
   "metadata": {},
   "outputs": [
    {
     "data": {
      "text/plain": [
       "[10, 12]"
      ]
     },
     "execution_count": 11,
     "metadata": {},
     "output_type": "execute_result"
    }
   ],
   "source": [
    "my_list"
   ]
  },
  {
   "cell_type": "code",
   "execution_count": 12,
   "id": "dd1c3572",
   "metadata": {},
   "outputs": [
    {
     "data": {
      "text/plain": [
       "'String'"
      ]
     },
     "execution_count": 12,
     "metadata": {},
     "output_type": "execute_result"
    }
   ],
   "source": [
    "my_lists.pop(0)  #pop at specific index"
   ]
  },
  {
   "cell_type": "code",
   "execution_count": 13,
   "id": "f675e201",
   "metadata": {},
   "outputs": [],
   "source": [
    "new_list = ['a','b','c','d','e','x','r','w']\n",
    "new_lists = [45,12,32,54,10,2,1,80,5]"
   ]
  },
  {
   "cell_type": "code",
   "execution_count": 18,
   "id": "23131bed",
   "metadata": {},
   "outputs": [],
   "source": [
    "new_lists.sort()   #uses timsort with time complexiety of (nlogn). changes the array in place (i.e it returns nothing)"
   ]
  },
  {
   "cell_type": "code",
   "execution_count": 19,
   "id": "ca6c7f0b",
   "metadata": {},
   "outputs": [
    {
     "data": {
      "text/plain": [
       "[1, 2, 5, 10, 12, 32, 45, 54, 80]"
      ]
     },
     "execution_count": 19,
     "metadata": {},
     "output_type": "execute_result"
    }
   ],
   "source": [
    "new_lists"
   ]
  },
  {
   "cell_type": "code",
   "execution_count": 20,
   "id": "0e06c0a1",
   "metadata": {},
   "outputs": [],
   "source": [
    "new_list.sort()  #arranges alphabetically"
   ]
  },
  {
   "cell_type": "code",
   "execution_count": 21,
   "id": "4cf6a0e5",
   "metadata": {},
   "outputs": [
    {
     "data": {
      "text/plain": [
       "['a', 'b', 'c', 'd', 'e', 'r', 'w', 'x']"
      ]
     },
     "execution_count": 21,
     "metadata": {},
     "output_type": "execute_result"
    }
   ],
   "source": [
    "new_list"
   ]
  },
  {
   "cell_type": "markdown",
   "id": "4460f086",
   "metadata": {},
   "source": [
    "Dictionary"
   ]
  },
  {
   "cell_type": "code",
   "execution_count": 22,
   "id": "b4483542",
   "metadata": {},
   "outputs": [],
   "source": [
    "#Dictionary is unsorted and list can be sorted. Dictionary stores key value pairs"
   ]
  },
  {
   "cell_type": "code",
   "execution_count": 23,
   "id": "d7ce85bc",
   "metadata": {},
   "outputs": [],
   "source": [
    "my_dict = {'key1' :'value1', 'key2':'value2'}"
   ]
  },
  {
   "cell_type": "code",
   "execution_count": 24,
   "id": "06796a05",
   "metadata": {},
   "outputs": [
    {
     "data": {
      "text/plain": [
       "{'key1': 'value1', 'key2': 'value2'}"
      ]
     },
     "execution_count": 24,
     "metadata": {},
     "output_type": "execute_result"
    }
   ],
   "source": [
    "my_dict"
   ]
  },
  {
   "cell_type": "code",
   "execution_count": 25,
   "id": "9b0b1c5d",
   "metadata": {},
   "outputs": [
    {
     "data": {
      "text/plain": [
       "'value1'"
      ]
     },
     "execution_count": 25,
     "metadata": {},
     "output_type": "execute_result"
    }
   ],
   "source": [
    "my_dict['key1']"
   ]
  },
  {
   "cell_type": "markdown",
   "id": "d5f56734",
   "metadata": {},
   "source": [
    "Tuples\n"
   ]
  },
  {
   "cell_type": "code",
   "execution_count": 1,
   "id": "f47d75fa",
   "metadata": {},
   "outputs": [],
   "source": [
    "tuple1 = (1,2,3,4,5)"
   ]
  },
  {
   "cell_type": "code",
   "execution_count": 2,
   "id": "7522f626",
   "metadata": {},
   "outputs": [
    {
     "name": "stdout",
     "output_type": "stream",
     "text": [
      "(1, 2, 3, 4, 5)\n"
     ]
    }
   ],
   "source": [
    "print(tuple1)"
   ]
  },
  {
   "cell_type": "code",
   "execution_count": 4,
   "id": "b830ebe6",
   "metadata": {},
   "outputs": [
    {
     "data": {
      "text/plain": [
       "3"
      ]
     },
     "execution_count": 4,
     "metadata": {},
     "output_type": "execute_result"
    }
   ],
   "source": [
    "#count occurrences of an element\n",
    "t = ('a','a','a','b','b')\n",
    "t.count('a')"
   ]
  },
  {
   "cell_type": "code",
   "execution_count": 6,
   "id": "0efa2477",
   "metadata": {},
   "outputs": [
    {
     "data": {
      "text/plain": [
       "0"
      ]
     },
     "execution_count": 6,
     "metadata": {},
     "output_type": "execute_result"
    }
   ],
   "source": [
    "#first appearance of a\n",
    "t.index('a')"
   ]
  },
  {
   "cell_type": "code",
   "execution_count": 8,
   "id": "c2fedf4d",
   "metadata": {},
   "outputs": [
    {
     "name": "stdout",
     "output_type": "stream",
     "text": [
      "{'p', 's', 'M', 'i'}\n"
     ]
    }
   ],
   "source": [
    "str = 'Mississippi'\n",
    "myset = set(str)\n",
    "\n",
    "print(myset)"
   ]
  },
  {
   "cell_type": "code",
   "execution_count": null,
   "id": "a8034cc5",
   "metadata": {},
   "outputs": [],
   "source": []
  }
 ],
 "metadata": {
  "kernelspec": {
   "display_name": "Python 3 (ipykernel)",
   "language": "python",
   "name": "python3"
  },
  "language_info": {
   "codemirror_mode": {
    "name": "ipython",
    "version": 3
   },
   "file_extension": ".py",
   "mimetype": "text/x-python",
   "name": "python",
   "nbconvert_exporter": "python",
   "pygments_lexer": "ipython3",
   "version": "3.9.7"
  }
 },
 "nbformat": 4,
 "nbformat_minor": 5
}
