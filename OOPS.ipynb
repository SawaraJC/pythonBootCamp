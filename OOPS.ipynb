{
 "cells": [
  {
   "cell_type": "code",
   "execution_count": 71,
   "id": "4ebc115d",
   "metadata": {},
   "outputs": [],
   "source": [
    "#self and __init__\n",
    "\n",
    "class Dog():\n",
    "    \n",
    "    #class level attributes\n",
    "    # no need to use self\n",
    "    species = 'mammal'\n",
    "    \n",
    "    def __init__(self, breed, names, spots):             #can be thought as constructor of the class with desired attributes\n",
    "        \n",
    "        #we take in argument\n",
    "        #assign it to self.attribute_name\n",
    "        self.breed = breed\n",
    "        self.names = names\n",
    "        self.spots = False\n",
    "        \n",
    "    #method is a function inside a class\n",
    "    def bark(self):\n",
    "        print(\"Helloooo! Name is {}\".format(self.names))\n",
    "        "
   ]
  },
  {
   "cell_type": "code",
   "execution_count": 72,
   "id": "3499c582",
   "metadata": {},
   "outputs": [
    {
     "ename": "TypeError",
     "evalue": "__init__() missing 3 required positional arguments: 'breed', 'names', and 'spots'",
     "output_type": "error",
     "traceback": [
      "\u001b[1;31m---------------------------------------------------------------------------\u001b[0m",
      "\u001b[1;31mTypeError\u001b[0m                                 Traceback (most recent call last)",
      "Input \u001b[1;32mIn [72]\u001b[0m, in \u001b[0;36m<cell line: 1>\u001b[1;34m()\u001b[0m\n\u001b[1;32m----> 1\u001b[0m myDog \u001b[38;5;241m=\u001b[39m \u001b[43mDog\u001b[49m\u001b[43m(\u001b[49m\u001b[43m)\u001b[49m\n",
      "\u001b[1;31mTypeError\u001b[0m: __init__() missing 3 required positional arguments: 'breed', 'names', and 'spots'"
     ]
    }
   ],
   "source": [
    "myDog = Dog()      #raises an error as no parameter is passed"
   ]
  },
  {
   "cell_type": "code",
   "execution_count": 73,
   "id": "2b5cebd8",
   "metadata": {},
   "outputs": [],
   "source": [
    "myDog = Dog(breed='Holder',names='Json',spots=True)"
   ]
  },
  {
   "cell_type": "code",
   "execution_count": 74,
   "id": "875ab92d",
   "metadata": {},
   "outputs": [
    {
     "data": {
      "text/plain": [
       "__main__.Dog"
      ]
     },
     "execution_count": 74,
     "metadata": {},
     "output_type": "execute_result"
    }
   ],
   "source": [
    "type(myDog)     #type of dog class"
   ]
  },
  {
   "cell_type": "code",
   "execution_count": 75,
   "id": "1b6eeb7e",
   "metadata": {},
   "outputs": [
    {
     "data": {
      "text/plain": [
       "'Holder'"
      ]
     },
     "execution_count": 75,
     "metadata": {},
     "output_type": "execute_result"
    }
   ],
   "source": [
    "myDog.breed     #attribute callable"
   ]
  },
  {
   "cell_type": "code",
   "execution_count": 76,
   "id": "ba708c48",
   "metadata": {},
   "outputs": [
    {
     "data": {
      "text/plain": [
       "'Json'"
      ]
     },
     "execution_count": 76,
     "metadata": {},
     "output_type": "execute_result"
    }
   ],
   "source": [
    "myDog.names"
   ]
  },
  {
   "cell_type": "code",
   "execution_count": 77,
   "id": "9eb98177",
   "metadata": {},
   "outputs": [
    {
     "data": {
      "text/plain": [
       "'mammal'"
      ]
     },
     "execution_count": 77,
     "metadata": {},
     "output_type": "execute_result"
    }
   ],
   "source": [
    "myDog.species"
   ]
  },
  {
   "cell_type": "code",
   "execution_count": 79,
   "id": "127f2606",
   "metadata": {},
   "outputs": [
    {
     "name": "stdout",
     "output_type": "stream",
     "text": [
      "Helloooo! Name is Json\n"
     ]
    }
   ],
   "source": [
    "myDog.bark()      #to call methods, we need to use paranthesis"
   ]
  },
  {
   "cell_type": "code",
   "execution_count": null,
   "id": "be8176fa",
   "metadata": {},
   "outputs": [],
   "source": []
  },
  {
   "cell_type": "code",
   "execution_count": null,
   "id": "ece23b0f",
   "metadata": {},
   "outputs": [],
   "source": []
  },
  {
   "cell_type": "code",
   "execution_count": null,
   "id": "59e70fd0",
   "metadata": {},
   "outputs": [],
   "source": []
  },
  {
   "cell_type": "code",
   "execution_count": null,
   "id": "84b0fce6",
   "metadata": {},
   "outputs": [],
   "source": []
  },
  {
   "cell_type": "code",
   "execution_count": null,
   "id": "9ca8097b",
   "metadata": {},
   "outputs": [],
   "source": []
  },
  {
   "cell_type": "code",
   "execution_count": null,
   "id": "64ce1037",
   "metadata": {},
   "outputs": [],
   "source": []
  },
  {
   "cell_type": "code",
   "execution_count": null,
   "id": "6dff0fb2",
   "metadata": {},
   "outputs": [],
   "source": []
  },
  {
   "cell_type": "code",
   "execution_count": null,
   "id": "be7ae27d",
   "metadata": {},
   "outputs": [],
   "source": []
  },
  {
   "cell_type": "code",
   "execution_count": null,
   "id": "27afab1f",
   "metadata": {},
   "outputs": [],
   "source": []
  },
  {
   "cell_type": "code",
   "execution_count": null,
   "id": "64c3d9c6",
   "metadata": {},
   "outputs": [],
   "source": []
  },
  {
   "cell_type": "code",
   "execution_count": null,
   "id": "773801d4",
   "metadata": {},
   "outputs": [],
   "source": []
  },
  {
   "cell_type": "code",
   "execution_count": null,
   "id": "c0313d16",
   "metadata": {},
   "outputs": [],
   "source": []
  },
  {
   "cell_type": "code",
   "execution_count": null,
   "id": "64559096",
   "metadata": {},
   "outputs": [],
   "source": []
  },
  {
   "cell_type": "code",
   "execution_count": 88,
   "id": "fc4408e0",
   "metadata": {},
   "outputs": [],
   "source": [
    "class Circle():\n",
    "    \n",
    "    figure = 'Circle'\n",
    "    \n",
    "    def __init__(self, radius, center):\n",
    "        self.radius = radius\n",
    "        self.center = center\n",
    "        \n",
    "    def Area(self):\n",
    "        return 3.14 * (self.radius**2)\n",
    "    \n",
    "    def Circumference(self):\n",
    "        return 2*3.14*(self.radius)\n",
    "        "
   ]
  },
  {
   "cell_type": "code",
   "execution_count": 94,
   "id": "1c44dc6b",
   "metadata": {},
   "outputs": [],
   "source": [
    "circ = Circle(7, 'O')"
   ]
  },
  {
   "cell_type": "code",
   "execution_count": 95,
   "id": "9d84d128",
   "metadata": {},
   "outputs": [
    {
     "data": {
      "text/plain": [
       "153.86"
      ]
     },
     "execution_count": 95,
     "metadata": {},
     "output_type": "execute_result"
    }
   ],
   "source": [
    "circ.Area()"
   ]
  },
  {
   "cell_type": "code",
   "execution_count": 96,
   "id": "7f47297d",
   "metadata": {},
   "outputs": [
    {
     "data": {
      "text/plain": [
       "'O'"
      ]
     },
     "execution_count": 96,
     "metadata": {},
     "output_type": "execute_result"
    }
   ],
   "source": [
    "circ.center"
   ]
  },
  {
   "cell_type": "code",
   "execution_count": 97,
   "id": "40dd2a42",
   "metadata": {},
   "outputs": [
    {
     "data": {
      "text/plain": [
       "'Circle'"
      ]
     },
     "execution_count": 97,
     "metadata": {},
     "output_type": "execute_result"
    }
   ],
   "source": [
    "circ.figure"
   ]
  },
  {
   "cell_type": "code",
   "execution_count": 98,
   "id": "50d45592",
   "metadata": {},
   "outputs": [
    {
     "data": {
      "text/plain": [
       "43.96"
      ]
     },
     "execution_count": 98,
     "metadata": {},
     "output_type": "execute_result"
    }
   ],
   "source": [
    "circ.Circumference()"
   ]
  },
  {
   "cell_type": "code",
   "execution_count": null,
   "id": "3f9bcf2a",
   "metadata": {},
   "outputs": [],
   "source": []
  },
  {
   "cell_type": "code",
   "execution_count": null,
   "id": "00386d45",
   "metadata": {},
   "outputs": [],
   "source": []
  },
  {
   "cell_type": "code",
   "execution_count": 99,
   "id": "2f7c75c9",
   "metadata": {},
   "outputs": [],
   "source": [
    "#inheritance\n",
    "\n",
    "#base class\n",
    "\n",
    "class Animal():\n",
    "    \n",
    "    def __init__(self):\n",
    "        print(\"Animal it is\")\n",
    "        \n",
    "    def whosit(self):\n",
    "        print(\"its an animal\")\n",
    "        \n",
    "    def eats(self):\n",
    "        print(\"Eating\")\n",
    "        \n",
    "\n",
    "    "
   ]
  },
  {
   "cell_type": "code",
   "execution_count": 109,
   "id": "824cd4a0",
   "metadata": {},
   "outputs": [],
   "source": [
    "#derived class\n",
    "\n",
    "class Dog(Animal):\n",
    "    \n",
    "    def __init__(self):\n",
    "        Animal.__init__(self)\n",
    "        print(\"Dogs here\")\n",
    "        \n",
    "    #overwriting a method from parent class\n",
    "    def whosit(self):              #use the same function name\n",
    "        print(\"A dog\")\n",
    "        \n",
    "        \n",
    "    #adding more methods\n",
    "    def bark(self):\n",
    "        print(\"Barking\")"
   ]
  },
  {
   "cell_type": "code",
   "execution_count": 110,
   "id": "da62699b",
   "metadata": {},
   "outputs": [
    {
     "name": "stdout",
     "output_type": "stream",
     "text": [
      "Animal it is\n",
      "Dogs here\n"
     ]
    }
   ],
   "source": [
    "my_dog = Dog()"
   ]
  },
  {
   "cell_type": "code",
   "execution_count": 111,
   "id": "dc0e3b82",
   "metadata": {},
   "outputs": [
    {
     "name": "stdout",
     "output_type": "stream",
     "text": [
      "Eating\n"
     ]
    }
   ],
   "source": [
    "my_dog.eats()"
   ]
  },
  {
   "cell_type": "code",
   "execution_count": 112,
   "id": "22778789",
   "metadata": {},
   "outputs": [
    {
     "name": "stdout",
     "output_type": "stream",
     "text": [
      "A dog\n"
     ]
    }
   ],
   "source": [
    "my_dog.whosit()"
   ]
  },
  {
   "cell_type": "code",
   "execution_count": 113,
   "id": "34715444",
   "metadata": {},
   "outputs": [
    {
     "name": "stdout",
     "output_type": "stream",
     "text": [
      "Barking\n"
     ]
    }
   ],
   "source": [
    "my_dog.bark()"
   ]
  },
  {
   "cell_type": "code",
   "execution_count": null,
   "id": "782c95ee",
   "metadata": {},
   "outputs": [],
   "source": []
  }
 ],
 "metadata": {
  "kernelspec": {
   "display_name": "Python 3 (ipykernel)",
   "language": "python",
   "name": "python3"
  },
  "language_info": {
   "codemirror_mode": {
    "name": "ipython",
    "version": 3
   },
   "file_extension": ".py",
   "mimetype": "text/x-python",
   "name": "python",
   "nbconvert_exporter": "python",
   "pygments_lexer": "ipython3",
   "version": "3.9.7"
  }
 },
 "nbformat": 4,
 "nbformat_minor": 5
}
